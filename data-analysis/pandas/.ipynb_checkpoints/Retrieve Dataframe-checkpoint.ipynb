{
 "cells": [
  {
   "cell_type": "code",
   "execution_count": 1,
   "metadata": {
    "collapsed": true
   },
   "outputs": [],
   "source": [
    "import os\n",
    "import pandas\n",
    "import numpy as np"
   ]
  },
  {
   "cell_type": "code",
   "execution_count": 2,
   "metadata": {
    "collapsed": false
   },
   "outputs": [
    {
     "name": "stdout",
     "output_type": "stream",
     "text": [
      "    0   1   2\n",
      "0   2   4   6\n",
      "1  10  20  30\n"
     ]
    }
   ],
   "source": [
    "df = pandas.DataFrame( [[2,4,6], [10, 20, 30]] )\n",
    "print(df)"
   ]
  },
  {
   "cell_type": "code",
   "execution_count": 3,
   "metadata": {
    "collapsed": false
   },
   "outputs": [
    {
     "name": "stdout",
     "output_type": "stream",
     "text": [
      "         A   B   C\n",
      "First    2   4   6\n",
      "Second  10  20  30\n"
     ]
    }
   ],
   "source": [
    "df = pandas.DataFrame( [[2,4,6], [10, 20, 30]], columns=[\"A\", \"B\", \"C\"], index=[\"First\", \"Second\"])\n",
    "print(df)"
   ]
  },
  {
   "cell_type": "code",
   "execution_count": 4,
   "metadata": {
    "collapsed": false
   },
   "outputs": [
    {
     "name": "stdout",
     "output_type": "stream",
     "text": [
      "A     6.0\n",
      "B    12.0\n",
      "C    18.0\n",
      "dtype: float64\n"
     ]
    }
   ],
   "source": [
    "print(df.mean())"
   ]
  },
  {
   "cell_type": "code",
   "execution_count": 5,
   "metadata": {
    "collapsed": false
   },
   "outputs": [
    {
     "name": "stdout",
     "output_type": "stream",
     "text": [
      "   First  Second\n",
      "A      2      10\n",
      "B      4      20\n",
      "C      6      30\n"
     ]
    }
   ],
   "source": [
    "print(df.T)"
   ]
  },
  {
   "cell_type": "code",
   "execution_count": 6,
   "metadata": {
    "collapsed": false
   },
   "outputs": [
    {
     "data": {
      "text/plain": [
       "['.ipynb_checkpoints',\n",
       " 'data',\n",
       " 'Manipulating Dataframe.ipynb',\n",
       " 'Retrieve Dataframe.ipynb']"
      ]
     },
     "execution_count": 6,
     "metadata": {},
     "output_type": "execute_result"
    }
   ],
   "source": [
    "os.listdir()"
   ]
  },
  {
   "cell_type": "markdown",
   "metadata": {},
   "source": [
    "There are lots of read file functions. Like read csvm json, txt etc..."
   ]
  },
  {
   "cell_type": "code",
   "execution_count": 7,
   "metadata": {
    "collapsed": false
   },
   "outputs": [
    {
     "name": "stdout",
     "output_type": "stream",
     "text": [
      "            Address           City             State Country         Name  \\\n",
      "ID                                                                          \n",
      "1      3666 21st St  San Francisco          CA 94114     USA      Madeira   \n",
      "2    735 Dolores St  San Francisco          CA 94119     USA  Bready Shop   \n",
      "3       332 Hill St  San Francisco  California 94114     USA  Super River   \n",
      "4      3995 23rd St  San Francisco          CA 94114     USA   Ben's Shop   \n",
      "5   1056 Sanchez St  San Francisco        California     USA      Sanchez   \n",
      "6   551 Alvarado St  San Francisco          CA 94114     USA   Richvalley   \n",
      "\n",
      "    Employees  \n",
      "ID             \n",
      "1           8  \n",
      "2          15  \n",
      "3          25  \n",
      "4          10  \n",
      "5          12  \n",
      "6          20  \n"
     ]
    }
   ],
   "source": [
    "df = pandas.read_csv(\"./data/supermarkets.csv\", index_col =\"ID\")\n",
    "print(df)"
   ]
  },
  {
   "cell_type": "markdown",
   "metadata": {},
   "source": [
    "You can even read a csv from website"
   ]
  },
  {
   "cell_type": "code",
   "execution_count": 10,
   "metadata": {
    "collapsed": false
   },
   "outputs": [
    {
     "name": "stdout",
     "output_type": "stream",
     "text": [
      "           Address           City Country  Employees  ID         Name  \\\n",
      "0     3666 21st St  San Francisco     USA          8   1      Madeira   \n",
      "1   735 Dolores St  San Francisco     USA         15   2  Bready Shop   \n",
      "2      332 Hill St  San Francisco     USA         25   3  Super River   \n",
      "3     3995 23rd St  San Francisco     USA         10   4   Ben's Shop   \n",
      "4  1056 Sanchez St  San Francisco     USA         12   5      Sanchez   \n",
      "5  551 Alvarado St  San Francisco     USA         20   6   Richvalley   \n",
      "\n",
      "              State  \n",
      "0          CA 94114  \n",
      "1          CA 94119  \n",
      "2  California 94114  \n",
      "3          CA 94114  \n",
      "4        California  \n",
      "5          CA 94114  \n"
     ]
    }
   ],
   "source": [
    "df_web = pandas.read_json(\"http://pythonhow.com/supermarkets.json\")\n",
    "print(df_web)"
   ]
  },
  {
   "cell_type": "markdown",
   "metadata": {},
   "source": [
    "Label based indexing:\n",
    "Purely label-location based indexer for selection by label. "
   ]
  },
  {
   "cell_type": "code",
   "execution_count": 11,
   "metadata": {
    "collapsed": false
   },
   "outputs": [
    {
     "data": {
      "text/html": [
       "<div>\n",
       "<table border=\"1\" class=\"dataframe\">\n",
       "  <thead>\n",
       "    <tr style=\"text-align: right;\">\n",
       "      <th></th>\n",
       "      <th>Country</th>\n",
       "      <th>Employees</th>\n",
       "      <th>ID</th>\n",
       "    </tr>\n",
       "  </thead>\n",
       "  <tbody>\n",
       "    <tr>\n",
       "      <th>2</th>\n",
       "      <td>USA</td>\n",
       "      <td>25</td>\n",
       "      <td>3</td>\n",
       "    </tr>\n",
       "    <tr>\n",
       "      <th>3</th>\n",
       "      <td>USA</td>\n",
       "      <td>10</td>\n",
       "      <td>4</td>\n",
       "    </tr>\n",
       "    <tr>\n",
       "      <th>4</th>\n",
       "      <td>USA</td>\n",
       "      <td>12</td>\n",
       "      <td>5</td>\n",
       "    </tr>\n",
       "    <tr>\n",
       "      <th>5</th>\n",
       "      <td>USA</td>\n",
       "      <td>20</td>\n",
       "      <td>6</td>\n",
       "    </tr>\n",
       "  </tbody>\n",
       "</table>\n",
       "</div>"
      ],
      "text/plain": [
       "  Country  Employees  ID\n",
       "2     USA         25   3\n",
       "3     USA         10   4\n",
       "4     USA         12   5\n",
       "5     USA         20   6"
      ]
     },
     "execution_count": 11,
     "metadata": {},
     "output_type": "execute_result"
    }
   ],
   "source": [
    "df_web.loc[\"2\":\"5\", \"Country\":\"ID\"]"
   ]
  },
  {
   "cell_type": "code",
   "execution_count": 12,
   "metadata": {
    "collapsed": false
   },
   "outputs": [
    {
     "data": {
      "text/plain": [
       "['Madeira',\n",
       " 'Bready Shop',\n",
       " 'Super River',\n",
       " \"Ben's Shop\",\n",
       " 'Sanchez',\n",
       " 'Richvalley']"
      ]
     },
     "execution_count": 12,
     "metadata": {},
     "output_type": "execute_result"
    }
   ],
   "source": [
    "list(df_web.loc[:, \"Name\"])"
   ]
  },
  {
   "cell_type": "markdown",
   "metadata": {},
   "source": [
    "Position based indexing:\n",
    "Purely integer-location based indexing for selection by position."
   ]
  },
  {
   "cell_type": "code",
   "execution_count": 13,
   "metadata": {
    "collapsed": false
   },
   "outputs": [
    {
     "data": {
      "text/html": [
       "<div>\n",
       "<table border=\"1\" class=\"dataframe\">\n",
       "  <thead>\n",
       "    <tr style=\"text-align: right;\">\n",
       "      <th></th>\n",
       "      <th>Address</th>\n",
       "      <th>City</th>\n",
       "      <th>Country</th>\n",
       "      <th>Employees</th>\n",
       "      <th>ID</th>\n",
       "      <th>Name</th>\n",
       "      <th>State</th>\n",
       "    </tr>\n",
       "  </thead>\n",
       "  <tbody>\n",
       "    <tr>\n",
       "      <th>2</th>\n",
       "      <td>332 Hill St</td>\n",
       "      <td>San Francisco</td>\n",
       "      <td>USA</td>\n",
       "      <td>25</td>\n",
       "      <td>3</td>\n",
       "      <td>Super River</td>\n",
       "      <td>California 94114</td>\n",
       "    </tr>\n",
       "  </tbody>\n",
       "</table>\n",
       "</div>"
      ],
      "text/plain": [
       "       Address           City Country  Employees  ID         Name  \\\n",
       "2  332 Hill St  San Francisco     USA         25   3  Super River   \n",
       "\n",
       "              State  \n",
       "2  California 94114  "
      ]
     },
     "execution_count": 13,
     "metadata": {},
     "output_type": "execute_result"
    }
   ],
   "source": [
    "df_web.iloc[2:3,:]"
   ]
  },
  {
   "cell_type": "markdown",
   "metadata": {},
   "source": [
    "**ix: Combine loc and iloc, which means [index, Label]**"
   ]
  },
  {
   "cell_type": "code",
   "execution_count": 14,
   "metadata": {
    "collapsed": false
   },
   "outputs": [
    {
     "data": {
      "text/plain": [
       "'Madeira'"
      ]
     },
     "execution_count": 14,
     "metadata": {},
     "output_type": "execute_result"
    }
   ],
   "source": [
    "df_web.ix[0, \"Name\"]"
   ]
  }
 ],
 "metadata": {
  "kernelspec": {
   "display_name": "Python 3",
   "language": "python",
   "name": "python3"
  },
  "language_info": {
   "codemirror_mode": {
    "name": "ipython",
    "version": 3
   },
   "file_extension": ".py",
   "mimetype": "text/x-python",
   "name": "python",
   "nbconvert_exporter": "python",
   "pygments_lexer": "ipython3",
   "version": "3.6.0"
  }
 },
 "nbformat": 4,
 "nbformat_minor": 0
}
